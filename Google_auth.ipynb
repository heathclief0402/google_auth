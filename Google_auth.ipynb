{
 "cells": [
  {
   "cell_type": "code",
   "execution_count": 1,
   "id": "8a916a26-9b79-4706-adda-3f7531b78bb9",
   "metadata": {},
   "outputs": [
    {
     "name": "stdout",
     "output_type": "stream",
     "text": [
      "Collecting google-api-python-client\n",
      "  Downloading google_api_python_client-2.137.0-py2.py3-none-any.whl.metadata (6.7 kB)\n",
      "Collecting google-auth-httplib2\n",
      "  Using cached google_auth_httplib2-0.2.0-py2.py3-none-any.whl.metadata (2.2 kB)\n",
      "Collecting google-auth-oauthlib\n",
      "  Downloading google_auth_oauthlib-1.2.1-py2.py3-none-any.whl.metadata (2.7 kB)\n",
      "Collecting httplib2<1.dev0,>=0.19.0 (from google-api-python-client)\n",
      "  Using cached httplib2-0.22.0-py3-none-any.whl.metadata (2.6 kB)\n",
      "Collecting google-auth!=2.24.0,!=2.25.0,<3.0.0.dev0,>=1.32.0 (from google-api-python-client)\n",
      "  Downloading google_auth-2.32.0-py2.py3-none-any.whl.metadata (4.7 kB)\n",
      "Collecting google-api-core!=2.0.*,!=2.1.*,!=2.2.*,!=2.3.0,<3.0.0.dev0,>=1.31.5 (from google-api-python-client)\n",
      "  Using cached google_api_core-2.19.1-py3-none-any.whl.metadata (2.7 kB)\n",
      "Collecting uritemplate<5,>=3.0.1 (from google-api-python-client)\n",
      "  Using cached uritemplate-4.1.1-py2.py3-none-any.whl.metadata (2.9 kB)\n",
      "Collecting requests-oauthlib>=0.7.0 (from google-auth-oauthlib)\n",
      "  Using cached requests_oauthlib-2.0.0-py2.py3-none-any.whl.metadata (11 kB)\n",
      "Collecting googleapis-common-protos<2.0.dev0,>=1.56.2 (from google-api-core!=2.0.*,!=2.1.*,!=2.2.*,!=2.3.0,<3.0.0.dev0,>=1.31.5->google-api-python-client)\n",
      "  Using cached googleapis_common_protos-1.63.2-py2.py3-none-any.whl.metadata (1.5 kB)\n",
      "Requirement already satisfied: protobuf!=3.20.0,!=3.20.1,!=4.21.0,!=4.21.1,!=4.21.2,!=4.21.3,!=4.21.4,!=4.21.5,<6.0.0.dev0,>=3.19.5 in c:\\users\\81087\\anaconda3\\lib\\site-packages (from google-api-core!=2.0.*,!=2.1.*,!=2.2.*,!=2.3.0,<3.0.0.dev0,>=1.31.5->google-api-python-client) (3.20.3)\n",
      "Collecting proto-plus<2.0.0dev,>=1.22.3 (from google-api-core!=2.0.*,!=2.1.*,!=2.2.*,!=2.3.0,<3.0.0.dev0,>=1.31.5->google-api-python-client)\n",
      "  Using cached proto_plus-1.24.0-py3-none-any.whl.metadata (2.2 kB)\n",
      "Requirement already satisfied: requests<3.0.0.dev0,>=2.18.0 in c:\\users\\81087\\anaconda3\\lib\\site-packages (from google-api-core!=2.0.*,!=2.1.*,!=2.2.*,!=2.3.0,<3.0.0.dev0,>=1.31.5->google-api-python-client) (2.31.0)\n",
      "Requirement already satisfied: cachetools<6.0,>=2.0.0 in c:\\users\\81087\\anaconda3\\lib\\site-packages (from google-auth!=2.24.0,!=2.25.0,<3.0.0.dev0,>=1.32.0->google-api-python-client) (4.2.2)\n",
      "Requirement already satisfied: pyasn1-modules>=0.2.1 in c:\\users\\81087\\anaconda3\\lib\\site-packages (from google-auth!=2.24.0,!=2.25.0,<3.0.0.dev0,>=1.32.0->google-api-python-client) (0.2.8)\n",
      "Collecting rsa<5,>=3.1.4 (from google-auth!=2.24.0,!=2.25.0,<3.0.0.dev0,>=1.32.0->google-api-python-client)\n",
      "  Using cached rsa-4.9-py3-none-any.whl.metadata (4.2 kB)\n",
      "Requirement already satisfied: pyparsing!=3.0.0,!=3.0.1,!=3.0.2,!=3.0.3,<4,>=2.4.2 in c:\\users\\81087\\anaconda3\\lib\\site-packages (from httplib2<1.dev0,>=0.19.0->google-api-python-client) (3.0.9)\n",
      "Collecting oauthlib>=3.0.0 (from requests-oauthlib>=0.7.0->google-auth-oauthlib)\n",
      "  Using cached oauthlib-3.2.2-py3-none-any.whl.metadata (7.5 kB)\n",
      "Requirement already satisfied: pyasn1<0.5.0,>=0.4.6 in c:\\users\\81087\\anaconda3\\lib\\site-packages (from pyasn1-modules>=0.2.1->google-auth!=2.24.0,!=2.25.0,<3.0.0.dev0,>=1.32.0->google-api-python-client) (0.4.8)\n",
      "Requirement already satisfied: charset-normalizer<4,>=2 in c:\\users\\81087\\anaconda3\\lib\\site-packages (from requests<3.0.0.dev0,>=2.18.0->google-api-core!=2.0.*,!=2.1.*,!=2.2.*,!=2.3.0,<3.0.0.dev0,>=1.31.5->google-api-python-client) (2.0.4)\n",
      "Requirement already satisfied: idna<4,>=2.5 in c:\\users\\81087\\anaconda3\\lib\\site-packages (from requests<3.0.0.dev0,>=2.18.0->google-api-core!=2.0.*,!=2.1.*,!=2.2.*,!=2.3.0,<3.0.0.dev0,>=1.31.5->google-api-python-client) (3.4)\n",
      "Requirement already satisfied: urllib3<3,>=1.21.1 in c:\\users\\81087\\anaconda3\\lib\\site-packages (from requests<3.0.0.dev0,>=2.18.0->google-api-core!=2.0.*,!=2.1.*,!=2.2.*,!=2.3.0,<3.0.0.dev0,>=1.31.5->google-api-python-client) (2.0.7)\n",
      "Requirement already satisfied: certifi>=2017.4.17 in c:\\users\\81087\\anaconda3\\lib\\site-packages (from requests<3.0.0.dev0,>=2.18.0->google-api-core!=2.0.*,!=2.1.*,!=2.2.*,!=2.3.0,<3.0.0.dev0,>=1.31.5->google-api-python-client) (2024.2.2)\n",
      "Downloading google_api_python_client-2.137.0-py2.py3-none-any.whl (12.0 MB)\n",
      "   ---------------------------------------- 0.0/12.0 MB ? eta -:--:--\n",
      "   ---------------------------------------- 0.0/12.0 MB 991.0 kB/s eta 0:00:13\n",
      "    --------------------------------------- 0.3/12.0 MB 3.2 MB/s eta 0:00:04\n",
      "   - -------------------------------------- 0.4/12.0 MB 3.8 MB/s eta 0:00:04\n",
      "   -- ------------------------------------- 0.7/12.0 MB 3.9 MB/s eta 0:00:03\n",
      "   -- ------------------------------------- 0.8/12.0 MB 3.8 MB/s eta 0:00:03\n",
      "   --- ------------------------------------ 1.0/12.0 MB 3.9 MB/s eta 0:00:03\n",
      "   ---- ----------------------------------- 1.3/12.0 MB 4.1 MB/s eta 0:00:03\n",
      "   ----- ---------------------------------- 1.5/12.0 MB 4.2 MB/s eta 0:00:03\n",
      "   ----- ---------------------------------- 1.7/12.0 MB 4.3 MB/s eta 0:00:03\n",
      "   ------ --------------------------------- 2.0/12.0 MB 4.4 MB/s eta 0:00:03\n",
      "   ------- -------------------------------- 2.2/12.0 MB 4.5 MB/s eta 0:00:03\n",
      "   -------- ------------------------------- 2.5/12.0 MB 4.5 MB/s eta 0:00:03\n",
      "   --------- ------------------------------ 2.7/12.0 MB 4.7 MB/s eta 0:00:02\n",
      "   --------- ------------------------------ 2.9/12.0 MB 4.6 MB/s eta 0:00:02\n",
      "   ---------- ----------------------------- 3.1/12.0 MB 4.5 MB/s eta 0:00:02\n",
      "   ----------- ---------------------------- 3.5/12.0 MB 4.8 MB/s eta 0:00:02\n",
      "   ------------ --------------------------- 3.7/12.0 MB 4.8 MB/s eta 0:00:02\n",
      "   ------------- -------------------------- 4.0/12.0 MB 4.8 MB/s eta 0:00:02\n",
      "   -------------- ------------------------- 4.3/12.0 MB 5.0 MB/s eta 0:00:02\n",
      "   --------------- ------------------------ 4.5/12.0 MB 5.0 MB/s eta 0:00:02\n",
      "   ---------------- ----------------------- 4.8/12.0 MB 5.1 MB/s eta 0:00:02\n",
      "   ----------------- ---------------------- 5.1/12.0 MB 5.1 MB/s eta 0:00:02\n",
      "   ------------------ --------------------- 5.4/12.0 MB 5.2 MB/s eta 0:00:02\n",
      "   ------------------ --------------------- 5.6/12.0 MB 5.1 MB/s eta 0:00:02\n",
      "   ------------------- -------------------- 5.8/12.0 MB 5.1 MB/s eta 0:00:02\n",
      "   -------------------- ------------------- 6.2/12.0 MB 5.2 MB/s eta 0:00:02\n",
      "   --------------------- ------------------ 6.5/12.0 MB 5.3 MB/s eta 0:00:02\n",
      "   ---------------------- ----------------- 6.8/12.0 MB 5.3 MB/s eta 0:00:01\n",
      "   ----------------------- ---------------- 7.0/12.0 MB 5.3 MB/s eta 0:00:01\n",
      "   ------------------------ --------------- 7.3/12.0 MB 5.3 MB/s eta 0:00:01\n",
      "   ------------------------- -------------- 7.7/12.0 MB 5.4 MB/s eta 0:00:01\n",
      "   -------------------------- ------------- 8.0/12.0 MB 5.4 MB/s eta 0:00:01\n",
      "   --------------------------- ------------ 8.2/12.0 MB 5.4 MB/s eta 0:00:01\n",
      "   ---------------------------- ----------- 8.5/12.0 MB 5.4 MB/s eta 0:00:01\n",
      "   ----------------------------- ---------- 8.7/12.0 MB 5.4 MB/s eta 0:00:01\n",
      "   ------------------------------ --------- 9.1/12.0 MB 5.5 MB/s eta 0:00:01\n",
      "   ------------------------------- -------- 9.5/12.0 MB 5.6 MB/s eta 0:00:01\n",
      "   -------------------------------- ------- 9.6/12.0 MB 5.5 MB/s eta 0:00:01\n",
      "   --------------------------------- ------ 10.0/12.0 MB 5.6 MB/s eta 0:00:01\n",
      "   ---------------------------------- ----- 10.3/12.0 MB 5.7 MB/s eta 0:00:01\n",
      "   ----------------------------------- ---- 10.6/12.0 MB 5.7 MB/s eta 0:00:01\n",
      "   ------------------------------------ --- 10.9/12.0 MB 5.8 MB/s eta 0:00:01\n",
      "   ------------------------------------- -- 11.2/12.0 MB 5.9 MB/s eta 0:00:01\n",
      "   ---------------------------------------  11.7/12.0 MB 6.1 MB/s eta 0:00:01\n",
      "   ---------------------------------------  11.9/12.0 MB 6.1 MB/s eta 0:00:01\n",
      "   ---------------------------------------- 12.0/12.0 MB 6.0 MB/s eta 0:00:00\n",
      "Using cached google_auth_httplib2-0.2.0-py2.py3-none-any.whl (9.3 kB)\n",
      "Downloading google_auth_oauthlib-1.2.1-py2.py3-none-any.whl (24 kB)\n",
      "Using cached google_api_core-2.19.1-py3-none-any.whl (139 kB)\n",
      "Downloading google_auth-2.32.0-py2.py3-none-any.whl (195 kB)\n",
      "   ---------------------------------------- 0.0/195.5 kB ? eta -:--:--\n",
      "   --------------------------------------- 195.5/195.5 kB 12.4 MB/s eta 0:00:00\n",
      "Using cached httplib2-0.22.0-py3-none-any.whl (96 kB)\n",
      "Using cached requests_oauthlib-2.0.0-py2.py3-none-any.whl (24 kB)\n",
      "Using cached uritemplate-4.1.1-py2.py3-none-any.whl (10 kB)\n",
      "Using cached googleapis_common_protos-1.63.2-py2.py3-none-any.whl (220 kB)\n",
      "Using cached oauthlib-3.2.2-py3-none-any.whl (151 kB)\n",
      "Using cached proto_plus-1.24.0-py3-none-any.whl (50 kB)\n",
      "Using cached rsa-4.9-py3-none-any.whl (34 kB)\n",
      "Installing collected packages: uritemplate, rsa, proto-plus, oauthlib, httplib2, googleapis-common-protos, requests-oauthlib, google-auth, google-auth-oauthlib, google-auth-httplib2, google-api-core, google-api-python-client\n",
      "Successfully installed google-api-core-2.19.1 google-api-python-client-2.137.0 google-auth-2.32.0 google-auth-httplib2-0.2.0 google-auth-oauthlib-1.2.1 googleapis-common-protos-1.63.2 httplib2-0.22.0 oauthlib-3.2.2 proto-plus-1.24.0 requests-oauthlib-2.0.0 rsa-4.9 uritemplate-4.1.1\n"
     ]
    }
   ],
   "source": [
    "!pip install google-api-python-client google-auth-httplib2 google-auth-oauthlib"
   ]
  },
  {
   "cell_type": "code",
   "execution_count": 35,
   "id": "13ac8265-9d84-49bd-99ed-ba96d4e2af01",
   "metadata": {},
   "outputs": [],
   "source": [
    "import os\n",
    "import io\n",
    "from googleapiclient.discovery import build\n",
    "from google.oauth2 import service_account\n",
    "from googleapiclient.http import MediaFileUpload, MediaIoBaseDownload"
   ]
  },
  {
   "cell_type": "code",
   "execution_count": 4,
   "id": "8eb8ba8f-0c0a-447d-9132-56dfd7230c33",
   "metadata": {},
   "outputs": [
    {
     "data": {
      "text/plain": [
       "True"
      ]
     },
     "execution_count": 4,
     "metadata": {},
     "output_type": "execute_result"
    }
   ],
   "source": [
    "path_to_cred = \"./kai-ai-nano-dbb2086d4c36.json\" # this is a Credentials from Google cloud concole, need to be dowloaded\n",
    "os.path.isfile(path_to_cred)"
   ]
  },
  {
   "cell_type": "code",
   "execution_count": 7,
   "id": "53af1abe-1752-4028-87e2-3b7ecdedd3ef",
   "metadata": {},
   "outputs": [
    {
     "data": {
      "text/plain": [
       "True"
      ]
     },
     "execution_count": 7,
     "metadata": {},
     "output_type": "execute_result"
    }
   ],
   "source": [
    "local_file = \"./test_file/test_1.pdf\"\n",
    "os.path.isfile(local_file)"
   ]
  },
  {
   "cell_type": "code",
   "execution_count": 14,
   "id": "5362e541-7480-472d-9e09-658e266fddc5",
   "metadata": {},
   "outputs": [],
   "source": [
    "creds = service_account.Credentials.from_service_account_file(path_to_cred,\n",
    "                                                                  scopes=['https://www.googleapis.com/auth/drive'])\n",
    "drive_service = build('drive', 'v3', credentials=creds)\n",
    "GD_folder_id = \"10sHUaht5ibGzjBFKHYfcuBguiUrp27IX\"\n",
    "# to get GD_folder_id, share the folder and looking for URL after folders/ and before ?usp=sharing"
   ]
  },
  {
   "cell_type": "code",
   "execution_count": 24,
   "id": "156b8527-7b10-4e88-a903-4de008cc7e4e",
   "metadata": {},
   "outputs": [],
   "source": [
    "#10sHUaht5ibGzjBFKHYfcuBguiUrp27IX\n",
    "def upload_file_to_GD(local_file, file_name, GD_folder_id): \n",
    "    file_metadata = {\n",
    "    'name': file_name,  \n",
    "    'parents': [GD_folder_id]}  # ID of the folder where you want to upload\n",
    "    #media = MediaFileUpload(local_file, mimetype='application/pdf')\n",
    "    media = MediaFileUpload(local_file)\n",
    "    file = drive_service.files().create(body=file_metadata, media_body=media, fields='id').execute()"
   ]
  },
  {
   "cell_type": "code",
   "execution_count": 16,
   "id": "7946e471-2306-4b9b-9145-a6771f8227be",
   "metadata": {},
   "outputs": [],
   "source": [
    "def create_temp_folder(GD_folder_name): \n",
    "    folder_metadata = {\n",
    "    'name': GD_folder_name,  \n",
    "    'parents': ['10sHUaht5ibGzjBFKHYfcuBguiUrp27IX']}  # ID of the parent folder (optional)\n",
    "    folder = drive_service.files().create(body=folder_metadata, fields='id').execute()"
   ]
  },
  {
   "cell_type": "code",
   "execution_count": 13,
   "id": "3f09e0cb-40aa-426e-9ad5-d8c3e0e806a0",
   "metadata": {},
   "outputs": [],
   "source": [
    "#create_temp_folder(\"new_fol\")"
   ]
  },
  {
   "cell_type": "code",
   "execution_count": 25,
   "id": "8b9bcb85-6452-4be8-952d-7068f3964f62",
   "metadata": {},
   "outputs": [],
   "source": [
    "upload_file_to_GD(local_file, \"test_1\", GD_folder_id)"
   ]
  },
  {
   "cell_type": "code",
   "execution_count": 28,
   "id": "18280228-2d80-468a-9e1e-259037b01a4b",
   "metadata": {},
   "outputs": [],
   "source": [
    "def list_files_in_folder(folder_id):\n",
    "    query = f\"'{folder_id}' in parents\"\n",
    "    results = drive_service.files().list(q=query, fields=\"files(id, name)\").execute()\n",
    "    items = results.get('files', [])\n",
    "    return items"
   ]
  },
  {
   "cell_type": "code",
   "execution_count": 30,
   "id": "4363aca7-5e60-47fe-a577-ebefa3965851",
   "metadata": {},
   "outputs": [
    {
     "data": {
      "text/plain": [
       "[{'id': '1zlUAp7YVYWIqwyWBgtgQYksdLE020MDv', 'name': 'test_1'}]"
      ]
     },
     "execution_count": 30,
     "metadata": {},
     "output_type": "execute_result"
    }
   ],
   "source": [
    "list_files_in_folder(GD_folder_id)"
   ]
  },
  {
   "cell_type": "code",
   "execution_count": 31,
   "id": "843ac33f-6333-4f5f-b8d6-4b4c07863906",
   "metadata": {},
   "outputs": [],
   "source": [
    "def download_file(file_id, file_name, destination_folder):\n",
    "    request = drive_service.files().get_media(fileId=file_id)\n",
    "    file_path = os.path.join(destination_folder, file_name)\n",
    "    fh = io.FileIO(file_path, 'wb')\n",
    "    downloader = MediaIoBaseDownload(fh, request)\n",
    "    done = False\n",
    "    while not done:\n",
    "        status, done = downloader.next_chunk()\n",
    "        print(f\"Download {file_name} {int(status.progress() * 100)}%.\")"
   ]
  },
  {
   "cell_type": "code",
   "execution_count": 37,
   "id": "eadb2620-215a-4136-ad4a-fd7b89eb28ce",
   "metadata": {},
   "outputs": [
    {
     "name": "stdout",
     "output_type": "stream",
     "text": [
      "Download download_test.pdf 100%.\n"
     ]
    }
   ],
   "source": [
    "download_file('1zlUAp7YVYWIqwyWBgtgQYksdLE020MDv', \"download_test.pdf\", \"./test_download\")"
   ]
  }
 ],
 "metadata": {
  "kernelspec": {
   "display_name": "Python 3 (ipykernel)",
   "language": "python",
   "name": "python3"
  },
  "language_info": {
   "codemirror_mode": {
    "name": "ipython",
    "version": 3
   },
   "file_extension": ".py",
   "mimetype": "text/x-python",
   "name": "python",
   "nbconvert_exporter": "python",
   "pygments_lexer": "ipython3",
   "version": "3.11.7"
  }
 },
 "nbformat": 4,
 "nbformat_minor": 5
}
